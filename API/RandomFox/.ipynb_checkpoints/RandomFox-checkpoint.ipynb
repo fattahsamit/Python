{
 "cells": [
  {
   "cell_type": "markdown",
   "metadata": {
    "id": "3Ey65N8DAlZY"
   },
   "source": [
    "[**Random Fox**](https://randomfox.ca/)"
   ]
  },
  {
   "cell_type": "code",
   "execution_count": 1,
   "metadata": {
    "id": "EtmZO8IBAk2N"
   },
   "outputs": [],
   "source": [
    "import requests"
   ]
  },
  {
   "cell_type": "code",
   "execution_count": 2,
   "metadata": {
    "id": "L8HVBs5rAZQu"
   },
   "outputs": [],
   "source": [
    "# API Request\n",
    "# Get info from this URL\n",
    "response = requests.get('https://randomfox.ca/floof')"
   ]
  },
  {
   "cell_type": "code",
   "execution_count": 3,
   "metadata": {
    "colab": {
     "base_uri": "https://localhost:8080/"
    },
    "id": "c58jHsBeBFCl",
    "outputId": "904eeaa9-d0be-44e0-cffa-cd75b7f17bdb"
   },
   "outputs": [
    {
     "name": "stdout",
     "output_type": "stream",
     "text": [
      "200\n"
     ]
    }
   ],
   "source": [
    "# Status Code\n",
    "# 200 = ok\n",
    "print(response.status_code)"
   ]
  },
  {
   "cell_type": "code",
   "execution_count": 4,
   "metadata": {
    "colab": {
     "base_uri": "https://localhost:8080/"
    },
    "id": "Y9zKJPIEBimb",
    "outputId": "f104d4b7-27da-4712-cb6b-9085c924ff2e"
   },
   "outputs": [
    {
     "name": "stdout",
     "output_type": "stream",
     "text": [
      "{\"image\":\"https:\\/\\/randomfox.ca\\/images\\/67.jpg\",\"link\":\"https:\\/\\/randomfox.ca\\/?i=67\"}\n"
     ]
    }
   ],
   "source": [
    "# formatted version (string)\n",
    "print(response.text)"
   ]
  },
  {
   "cell_type": "code",
   "execution_count": 5,
   "metadata": {
    "colab": {
     "base_uri": "https://localhost:8080/"
    },
    "id": "yk_Mq1lHBx3e",
    "outputId": "61c17c94-7499-44f6-c6df-9b7d4f55ca29"
   },
   "outputs": [
    {
     "name": "stdout",
     "output_type": "stream",
     "text": [
      "{'image': 'https://randomfox.ca/images/67.jpg', 'link': 'https://randomfox.ca/?i=67'}\n"
     ]
    }
   ],
   "source": [
    "# dictionary to work it\n",
    "print(response.json())"
   ]
  },
  {
   "cell_type": "code",
   "execution_count": 6,
   "metadata": {
    "id": "N10BuqFeCkPo"
   },
   "outputs": [],
   "source": [
    "fox = response.json()"
   ]
  },
  {
   "cell_type": "code",
   "execution_count": 7,
   "metadata": {
    "colab": {
     "base_uri": "https://localhost:8080/"
    },
    "id": "QitRd-l6CpnA",
    "outputId": "8def0cdf-9e54-4339-ea62-08bc7d373df3"
   },
   "outputs": [
    {
     "name": "stdout",
     "output_type": "stream",
     "text": [
      "https://randomfox.ca/images/67.jpg\n"
     ]
    }
   ],
   "source": [
    "print(fox['image'])"
   ]
  },
  {
   "cell_type": "code",
   "execution_count": 8,
   "metadata": {
    "id": "Iuiub_zkCw0V"
   },
   "outputs": [],
   "source": [
    "url = (fox['image'])"
   ]
  },
  {
   "cell_type": "code",
   "execution_count": 9,
   "metadata": {
    "id": "frOElC8hJGds"
   },
   "outputs": [],
   "source": [
    "# from PIL import Image\n",
    "# import requests\n",
    "# from io import BytesIO\n",
    "\n",
    "# response = requests.get(url)\n",
    "# img = Image.open(BytesIO(response.content))"
   ]
  },
  {
   "cell_type": "code",
   "execution_count": null,
   "metadata": {
    "id": "XZ_QVRYcKU6M"
   },
   "outputs": [],
   "source": []
  }
 ],
 "metadata": {
  "colab": {
   "collapsed_sections": [],
   "name": "RandomFox",
   "provenance": []
  },
  "kernelspec": {
   "display_name": "Python 3",
   "language": "python",
   "name": "python3"
  },
  "language_info": {
   "codemirror_mode": {
    "name": "ipython",
    "version": 3
   },
   "file_extension": ".py",
   "mimetype": "text/x-python",
   "name": "python",
   "nbconvert_exporter": "python",
   "pygments_lexer": "ipython3",
   "version": "3.8.8"
  }
 },
 "nbformat": 4,
 "nbformat_minor": 1
}
