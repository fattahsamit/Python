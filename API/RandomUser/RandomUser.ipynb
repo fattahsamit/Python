{
 "cells": [
  {
   "cell_type": "markdown",
   "metadata": {
    "id": "Bf46Mk6kO_Lf"
   },
   "source": [
    "[**Random User**](https://randomuser.me/)\n",
    "\n",
    "https://randomuser.me/api"
   ]
  },
  {
   "cell_type": "code",
   "execution_count": 12,
   "metadata": {
    "id": "abUQgFa4OZ-q"
   },
   "outputs": [
    {
     "name": "stdout",
     "output_type": "stream",
     "text": [
      "Requirement already satisfied: requests in c:\\users\\dcl\\anaconda3\\lib\\site-packages (2.25.1)\n",
      "Requirement already satisfied: certifi>=2017.4.17 in c:\\users\\dcl\\anaconda3\\lib\\site-packages (from requests) (2020.12.5)\n",
      "Requirement already satisfied: chardet<5,>=3.0.2 in c:\\users\\dcl\\anaconda3\\lib\\site-packages (from requests) (4.0.0)\n",
      "Requirement already satisfied: urllib3<1.27,>=1.21.1 in c:\\users\\dcl\\anaconda3\\lib\\site-packages (from requests) (1.26.4)\n",
      "Requirement already satisfied: idna<3,>=2.5 in c:\\users\\dcl\\anaconda3\\lib\\site-packages (from requests) (2.10)\n"
     ]
    }
   ],
   "source": [
    "# !pip install requests"
   ]
  },
  {
   "cell_type": "code",
   "execution_count": 13,
   "metadata": {
    "id": "R7H99zZtQFQR"
   },
   "outputs": [],
   "source": [
    "import requests"
   ]
  },
  {
   "cell_type": "code",
   "execution_count": 14,
   "metadata": {
    "colab": {
     "base_uri": "https://localhost:8080/"
    },
    "id": "Fp6kHNThQRvk",
    "outputId": "2f268b4b-6c13-4021-a975-d7384c9976a7"
   },
   "outputs": [
    {
     "name": "stdout",
     "output_type": "stream",
     "text": [
      "200\n",
      "{'results': [{'gender': 'female', 'name': {'title': 'Ms', 'first': 'Irene', 'last': 'Berry'}, 'location': {'street': {'number': 2345, 'name': 'Poplar Dr'}, 'city': 'Brisbane', 'state': 'Victoria', 'country': 'Australia', 'postcode': 5018, 'coordinates': {'latitude': '-83.0581', 'longitude': '26.2020'}, 'timezone': {'offset': '-2:00', 'description': 'Mid-Atlantic'}}, 'email': 'irene.berry@example.com', 'login': {'uuid': '61c63a2d-4267-4d70-92fb-79dc3f1017de', 'username': 'silverkoala624', 'password': 'woodwork', 'salt': 'jAD2Bbuk', 'md5': 'ab2a6bd56347d10f8f2fe6e7d5a1ed0a', 'sha1': 'efedc9c31ef291f86fb4097a5c18740f73691106', 'sha256': '761e1dc88efa5becf990558d6e178635dfd83d92f874af51d5995acdd23e306c'}, 'dob': {'date': '1991-11-06T05:51:29.635Z', 'age': 30}, 'registered': {'date': '2017-08-22T09:28:00.450Z', 'age': 4}, 'phone': '09-0004-8977', 'cell': '0481-649-211', 'id': {'name': 'TFN', 'value': '952484907'}, 'picture': {'large': 'https://randomuser.me/api/portraits/women/19.jpg', 'medium': 'https://randomuser.me/api/portraits/med/women/19.jpg', 'thumbnail': 'https://randomuser.me/api/portraits/thumb/women/19.jpg'}, 'nat': 'AU'}], 'info': {'seed': 'a487909179876009', 'results': 1, 'page': 1, 'version': '1.4'}}\n"
     ]
    }
   ],
   "source": [
    "response = requests.get('https://randomuser.me/api')\n",
    "print(response.status_code)\n",
    "\n",
    "print(response.json())\n",
    "user = response.json()"
   ]
  },
  {
   "cell_type": "code",
   "execution_count": 15,
   "metadata": {
    "id": "6HwWY2tzQofJ"
   },
   "outputs": [],
   "source": [
    "gender = user['results'][0]['gender']"
   ]
  },
  {
   "cell_type": "code",
   "execution_count": 16,
   "metadata": {
    "colab": {
     "base_uri": "https://localhost:8080/"
    },
    "id": "vx3-_BqxUv8A",
    "outputId": "5fb6195e-6888-4a4a-ad55-f112d93adbd7"
   },
   "outputs": [
    {
     "name": "stdout",
     "output_type": "stream",
     "text": [
      "Title: Ms\n"
     ]
    }
   ],
   "source": [
    "title = user['results'][0]['name']['title']\n",
    "print('Title: ' + title)"
   ]
  },
  {
   "cell_type": "code",
   "execution_count": 17,
   "metadata": {
    "colab": {
     "base_uri": "https://localhost:8080/"
    },
    "id": "YRrHyXGQSEeB",
    "outputId": "a61ffe04-8f8c-4c0f-9cf9-650919222025"
   },
   "outputs": [
    {
     "name": "stdout",
     "output_type": "stream",
     "text": [
      "First Name: Irene\n"
     ]
    }
   ],
   "source": [
    "fname = user['results'][0]['name']['first']\n",
    "print('First Name: ' + fname)"
   ]
  },
  {
   "cell_type": "code",
   "execution_count": 18,
   "metadata": {
    "colab": {
     "base_uri": "https://localhost:8080/"
    },
    "id": "TP6XziRWT-zM",
    "outputId": "bb5e99ee-92bf-43bd-f70d-5abe8ffbc49d"
   },
   "outputs": [
    {
     "name": "stdout",
     "output_type": "stream",
     "text": [
      "Last Name: Berry\n"
     ]
    }
   ],
   "source": [
    "lname = user['results'][0]['name']['last']\n",
    "print('Last Name: ' + lname)"
   ]
  },
  {
   "cell_type": "code",
   "execution_count": 19,
   "metadata": {
    "id": "d0dvzOIbUib7"
   },
   "outputs": [],
   "source": [
    "age = user['results'][0]['dob']['age']"
   ]
  },
  {
   "cell_type": "code",
   "execution_count": 20,
   "metadata": {
    "id": "Ai5qmuMUXhcq"
   },
   "outputs": [],
   "source": [
    "email = user['results'][0]['email']"
   ]
  },
  {
   "cell_type": "code",
   "execution_count": 21,
   "metadata": {
    "id": "rY0Y3berWa68"
   },
   "outputs": [],
   "source": [
    "country = user['results'][0]['location']['country']"
   ]
  },
  {
   "cell_type": "code",
   "execution_count": 22,
   "metadata": {
    "colab": {
     "base_uri": "https://localhost:8080/"
    },
    "id": "KPEuqupOUI2G",
    "outputId": "727498d7-07b7-4bca-e7d0-e6a6c3a658d6"
   },
   "outputs": [
    {
     "name": "stdout",
     "output_type": "stream",
     "text": [
      "Ms. Irene Berry\n",
      "Gender: female\n",
      "Age: 30\n",
      "E-mail: irene.berry@example.com\n",
      "Country: Australia\n"
     ]
    }
   ],
   "source": [
    "print(f'{title}. {fname} {lname}')\n",
    "print('Gender: ' + gender)\n",
    "print(f'Age: {age}')\n",
    "print('E-mail: ' + email)\n",
    "print('Country: ' + country)"
   ]
  },
  {
   "cell_type": "code",
   "execution_count": null,
   "metadata": {
    "id": "sAWVYF7JVjWi"
   },
   "outputs": [],
   "source": []
  }
 ],
 "metadata": {
  "colab": {
   "collapsed_sections": [],
   "name": "RandomUser",
   "provenance": []
  },
  "kernelspec": {
   "display_name": "Python 3",
   "language": "python",
   "name": "python3"
  },
  "language_info": {
   "codemirror_mode": {
    "name": "ipython",
    "version": 3
   },
   "file_extension": ".py",
   "mimetype": "text/x-python",
   "name": "python",
   "nbconvert_exporter": "python",
   "pygments_lexer": "ipython3",
   "version": "3.8.8"
  }
 },
 "nbformat": 4,
 "nbformat_minor": 1
}
